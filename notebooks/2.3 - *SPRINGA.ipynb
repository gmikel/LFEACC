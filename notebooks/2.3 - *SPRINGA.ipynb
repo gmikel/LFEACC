{
 "cells": [
  {
   "cell_type": "markdown",
   "metadata": {},
   "source": [
    "# \\*SPRINGA ELEMENTS\n",
    "\n",
    "## Summary\n",
    "\n",
    "The purpose of this notebook is to introduce the reader to the \\*SPRINGA element.\n",
    "\n",
    "### Input Card: \\*SPRINGA"
   ]
  },
  {
   "cell_type": "markdown",
   "metadata": {},
   "source": [
    "### Common Pitfalls\n",
    "* Moments released at nodes. Depending on geometry definition, could lead to rigid body motion. Resists axial forces.\n",
    "* If stiffness of spring is low + compressive loads, could lead to negative displacement."
   ]
  },
  {
   "cell_type": "markdown",
   "metadata": {},
   "source": [
    "### Choose the Geometry:\n",
    "\n",
    "Show a picture of the elemental CSYS + a typical example of a spring system\n",
    "\n"
   ]
  },
  {
   "cell_type": "markdown",
   "metadata": {},
   "source": [
    "### Choose the Shape (Interpolation) Function\n",
    "\n",
    "* For the **linear** spring, if both nodes are allowed to translate along the axis of the spring, a description of the displacement along the spring can take the following form:\n",
    "\n",
    "$$u = c_1 + c_2x$$\n",
    "\n",
    "where $$c_1$$ is the displacement associated with Node 1 since:\n",
    "\n",
    "$$u(x) = u(0) = c_1 = u_1$$\n",
    "\n",
    "and $$c_2$$ is the rate of change of the displacement between Node 1 and Node 2 such that the displacement associated with Node 2 is:\n",
    "\n",
    "$$u(x) = (L) = u_1 + c_2 L = u_2$$\n",
    "\n",
    "Soliving for $$c_2$$ and substituting, the displacement along the axis of the spring is described by:\n",
    "\n",
    "$$u(x) = u_1 + \\frac{(u_2 - u_1)}{L}x = (1 - \\frac{x}{L})u_1 + u_2x$$\n",
    "\n",
    "Or in matrix form:\n",
    "\n",
    "$u(x) = \\begin{bmatrix}N_1 & N_2 \\end{bmatrix} \\begin{bmatrix}u_1 \\\\ u_2 \\end{bmatrix}$\n",
    "\n",
    "where $$N_1$$ and $$N_2$$ are the shape or interpolation functions:\n",
    "\n",
    "$$\\begin{split} N_1 & = 1 - \\frac{x}{L} \\\\ N_2 & = \\frac{x}{L} \\end{split}$$\n",
    "\n",
    "Note that the sum of $N_1$ and $N_2$ is 1 for all $x$ which is an important property of shape functions for all elements. The plot of $$N_1$$ and $N_2$ are shown in the figure below to illustrate this."
   ]
  },
  {
   "cell_type": "code",
   "execution_count": 12,
   "metadata": {},
   "outputs": [
    {
     "data": {
      "image/png": "[encoded data removed]",
      "text/plain": [
       "<Figure size 432x288 with 1 Axes>"
      ]
     },
     "metadata": {},
     "output_type": "display_data"
    }
   ],
   "source": [
    "import matplotlib.pyplot as plt\n",
    "import numpy as np\n",
    "\n",
    "#Define the variables:\n",
    "L = 1\n",
    "N_div = 10\n",
    "x = np.linspace(0,L,N_div)\n",
    "N1 = 1 - np.true_divide(x,L)\n",
    "N2 = np.true_divide(x,L)\n",
    "plt.plot(x,N1,'r--')\n",
    "plt.plot(x,N2,'b--')\n",
    "plt.axis([0,1,0,1])\n",
    "plt.xlabel('% Distance along spring element')\n",
    "plt.ylabel('Value of shape function')\n",
    "plt.show()\n"
   ]
  },
  {
   "cell_type": "markdown",
   "metadata": {},
   "source": [
    "The way to interpret this information is:\n",
    "* if Node 1 were fixed ($u_1 = 0$) the displacement in the spring would be described entirely by the shape function $N_2$. Likewise, if Node 2 were fixed ($u_2 = 0$), the displacement in the spring would be described by the shape function $N_1$.\n",
    "* However, for some problems $u_1$ and $u_2$ translate different distances leading to loading up of the spring.\n",
    "* Example: Car suspension; say u1 represents the top of the strut tower with x positive downwards and u2 represents the bottom of the strut near the control arm. Undulations in the body and suspension will cause different displacements. Say u1 is +1.25 in. down and u2 is -1.625 in. up (maybe the car hit a bump). The shape functions are described as (for a spring that's 10 in. long):\n",
    "$u(x) = \\begin{bmatrix}N_1 & N_2 \\end{bmatrix} \\begin{bmatrix}u_1 \\\\ u_2 \\end{bmatrix}$\n",
    "$ = \\begin{bmatrix}1-\\frac{x}{10} & \\frac{x}{10} \\end{bmatrix} \\begin{bmatrix}1.25 \\\\ -1.625 \\end{bmatrix} = 1.25 - 0.2875x $\n",
    "* Now if x = 0, the displacement at the strut is 1.25\" as expected\n",
    "* if x = 10, the displacement at the control arm is -1.625\"\n",
    "\n",
    "# Defining the Stiffness Matrix\n",
    "* From Hooke's law: $F = kx$\n",
    "* Freebody diagram\n",
    "* If u1 and u2 are allowed to displace differently (as discussed with the strut), the force at node 1 is: $F_1 = -k(u_2 - u_1)$\n",
    "* The force at node 2 is: $F_2 = k(u_2 - u_1)$\n",
    "* Combine: $[F] = \\begin{bmatrix}F_1 \\\\ F_2 \\end{bmatrix} = \\begin{bmatrix}k & -k \\\\ -k & k \\end{bmatrix} \\begin{bmatrix}u_1 \\\\ u_2 \\end{bmatrix}$\n",
    "* where k is stiffness matrix\n"
   ]
  },
  {
   "cell_type": "code",
   "execution_count": 23,
   "metadata": {},
   "outputs": [
    {
     "name": "stdout",
     "output_type": "stream",
     "text": [
      "[[ 2875.]\n",
      " [-2875.]]\n",
      "[-2.875]\n",
      "-2.875\n"
     ]
    }
   ],
   "source": [
    "import numpy as np\n",
    "\n",
    "#Define variables\n",
    "k = 1000\n",
    "u1 = 1.25\n",
    "u2 = -1.625\n",
    "\n",
    "#Generate displacement and stiffness matrices\n",
    "ke = np.array([[k, -k], [-k, k]])\n",
    "un = np.array([[u1],[u2]])\n",
    "#Solve for forces in at strut and control arm\n",
    "F = np.matmul(ke,un)\n",
    "\n",
    "#Check total displacement\n",
    "delta = -F[0]/k #Note from matrix and element CSYS, spring is in compression\n",
    "delta_check = u2-u1\n",
    "print(F)\n",
    "print(delta)\n",
    "print(delta_check)"
   ]
  },
  {
   "cell_type": "markdown",
   "metadata": {},
   "source": [
    "But generally, finite element analysis involves knowing something about the stiffness of the members in the design (the spring... or a bridge constructed out of beams, etc.) and we want to know the displacements. These displacements infer the internal loads of the elements which allow us to calculate stresses, etc. for the structural members. For example, if we know the weight of the car, we can approximate the static displacement of the body by inverting the stiffness matrix. The problem here though is that, in general, stiffness matrices are indeterminate and do not have an inverse (see Cramer's Rule). Therefore, we need to appropriately apply boundary conditions such that Gaussian Elimination can be used to solve the problem. Here, we assume that the body is \"fixed\" relative to the ground (u1 = 0) -- then the stiffness matrix can be modified as follows:"
   ]
  },
  {
   "cell_type": "code",
   "execution_count": 26,
   "metadata": {},
   "outputs": [
    {
     "data": {
      "text/plain": [
       "array([[ 0.8],\n",
       "       [-0.8]])"
      ]
     },
     "execution_count": 26,
     "metadata": {},
     "output_type": "execute_result"
    }
   ],
   "source": [
    "Wcar = 3200 #lbf\n",
    "k = 1000\n",
    "Ns = 4\n",
    "kt = 4*k\n",
    "Fc = Wcar/Ns\n",
    "\n",
    "ke = np.array([[0, -k], [-k, 0]])\n",
    "Fs = np.array([[Fc],[-Fc]])\n",
    "\n",
    "np.linalg.solve(ke,Fs)\n"
   ]
  },
  {
   "cell_type": "code",
   "execution_count": null,
   "metadata": {},
   "outputs": [],
   "source": []
  }
 ],
 "metadata": {
  "kernelspec": {
   "display_name": "Python 3",
   "language": "python",
   "name": "python3"
  },
  "language_info": {
   "codemirror_mode": {
    "name": "ipython",
    "version": 3
   },
   "file_extension": ".py",
   "mimetype": "text/x-python",
   "name": "python",
   "nbconvert_exporter": "python",
   "pygments_lexer": "ipython3",
   "version": "3.6.5"
  }
 },
 "nbformat": 4,
 "nbformat_minor": 2
}
