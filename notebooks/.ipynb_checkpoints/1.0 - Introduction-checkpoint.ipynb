{
 "cells": [
  {
   "cell_type": "markdown",
   "metadata": {},
   "source": [
    "# Linear Finite Element Analysis Crash Course (LFEACC)\n",
    "\n",
    "by Garrett M. Kelley  (gkelley at uw.edu).\n",
    "\n",
    "Resources: \n",
    "[1] Logan, Daryl L. \"A First Course in the Finite Element Method.\" 5th ed. Cengage Learning, 2012. Stamford, CT 06902.\n",
    "\n",
    "## Motivation\n",
    "\n",
    "This notebook is a crash course on **linear** Finite Element Analysis (non-linear; finite volume; etc. methods will be covered in different CCs). CalculiX 2.14 will be used as a basis for discussion because it's open-source and has been under developement for quite some time. \n",
    "\n",
    "* To test my own understanding\n",
    "* To better develop my skill set\n",
    "* And, above all, to help you along the way; hopefully shortcut some of the difficulties associated with learning FEA code\n",
    "\n",
    "Things to master:\n",
    "\n",
    "* Differnt types of elements\n",
    "* How the elements are defined\n",
    "* What shape functions are and how they are defined\n",
    "* How the stiffness matrices of the individual elements are defined\n",
    "* Potential pitfalls of the elements\n",
    "\n",
    "What this notebook is not:\n",
    "\n",
    "* The notebook isn't intended to involve a lot of theory (again, this is a **crash course**)\n",
    "\n",
    "## What is FEA?\n",
    "* A brief history\n",
    "* Became a tool for mankind to solve complex problems\n",
    "* Allows for multiple concepts/prototypes to be built before they're tested; cheap relative to builting multiple prototypes; allows for optimization of a design\n",
    "* FEA discretizes a \"domain\" (or, in this case, the \"design\" or prototype); \"chunks\" it up into smaller pieces. Take the limit, shrink the elements to smaller sizes, approaches the behaviour of the continuum (or continuous) domain\n",
    "* When the domain is discretized, \"nodes\" are generated -- elements connect the nodes. Mathematical relationships are developed that interpolate physical quantities between each of the nodes (displacement, stress, etc.). -- Known as shape functions. In general, the solution at each node is known exactly while the regions between the nodes are interpolated.\n",
    "* A structure can be thought of (generally) as springs assembled in series/parallel. Using this as the basis for FEA, elements can be thought of as springs with a stiffness based on their physical characteristics. \n",
    "* Solution of FEA boils down to solving Hooke's Law:\n",
    "$$ [F] = [k]\\{u\\} $$\n",
    "\n",
    "## Software\n",
    "* The following software was used in generating this book\n",
    "* Jupyter Notebooks + Python3 (Open source; can be viewed with nbviewer; etc.)\n",
    "* Freecad (used to generate some geometry for \"other\" examples used in this text)\n",
    "* Inkscape (generating graphics)\n",
    "* Preprocessor:\n",
    "    * What is a preprocessor? Generates the mesh for the solver; breaks up geometry into groups for loads and bc application; etc.\n",
    "    * GMSH 3.0 (Link) for meshing (Open source; wanted to learn a new piece of software)\n",
    "    * CalculiX GraphiX (\"cgx\") - Can be used as a preprocessor (but used as a post processor)\n",
    "* Solver:\n",
    "    * CalculiX CrunchiX (\"ccx\") - Used as the solver; follows an \"ABAQUS-like\" syntax; open source; wanted to learn a new FEA \"language\"\n",
    "    * Familiar with Nastran 95; MSC Nastran; NX Nastran; Dessault Systemes CATIA Elfini; ANSYS\n",
    "* Postprocessor:\n",
    "    * What is a post processor? Displays the results (displacement, stress, etc.) of the solver in \"Human-readable\" form; prevents users from reading the output deck (although knowing how to read the output deck is invaluable -- also for postprocessing and checking for errors)\n",
    "    \n"
   ]
  },
  {
   "cell_type": "markdown",
   "metadata": {},
   "source": [
    "## Demonstration by Example \n",
    "* Following example demonstrates the derivation of a 2-noded (2 degrees of freedom) spring element. Derivation of most linear FEA problems follow this general format:\n"
   ]
  },
  {
   "cell_type": "markdown",
   "metadata": {},
   "source": [
    "1. Choose the Geometry of Interest:\n",
    "* Show a picture of the geometry -- say we want to model a spring system\n",
    "* Show boundary conditions, etc. Understand the problem.\n"
   ]
  },
  {
   "cell_type": "markdown",
   "metadata": {},
   "source": [
    "2. Select an Element:\n",
    "* We're modeling a spring so it makes sense that we would select a spring\n",
    "* Show a picture of the spring and its local CSYS\n",
    "* Show its freebody diagram\n",
    "*"
   ]
  },
  {
   "cell_type": "markdown",
   "metadata": {},
   "source": [
    "3. Define the Shape Functions:\n",
    "* Depending on the element selected, many different Shape/Interpolation Functions can be defined\n",
    "* Again, shape functions interpolate physical values (i.e. displacement) between the nodes\n",
    "* Plot the shapefunctions\n",
    "* Note that important property of shape functions"
   ]
  },
  {
   "cell_type": "markdown",
   "metadata": {},
   "source": [
    "4. <u>Determine the Displacement/Strain/Stress Relationships</u>\n",
    "* Define the total displacement of the spring (u2 - u1)*delta\n",
    "* Define the force in the spring by Hooke's Law: T = k*delta = k(u2-u1)\n",
    "5. <u>Generate the Stiffness Matrix</u>\n",
    "* Boundary forces from freebody diagram f_1x = -T = -k(u2 - u1); f_2x = T = k(u2 -u1);\n",
    "$[k] = \\begin{bmatrix}k & -k \\\\ -k & k \\end{bmatrix}$\n",
    " \n"
   ]
  },
  {
   "cell_type": "markdown",
   "metadata": {},
   "source": [
    "1.4.6 Apply loads and boundary conditions\n",
    "* Pick some values for the loads and boundary conditions\n",
    "1.4.7 Invert and Solve\n",
    "* Show that the same output is given for just using Hooke's Law (w/o matrices)"
   ]
  },
  {
   "cell_type": "markdown",
   "metadata": {},
   "source": [
    "1.5 CalculiX Solution\n",
    "* Mesh generation (from GMSH) generation of input deck (show mesh using block); explain generation of groups for loads and boundary conditions\n",
    "* Import mesh into cgx\n",
    "* Generate input deck for ccx *show this information and explain*\n",
    "* Solve and read .fbd into cgx and show output\n",
    "* Superimpose shape functions and displacement plot to show interpolation."
   ]
  }
 ],
 "metadata": {
  "kernelspec": {
   "display_name": "Python 3",
   "language": "python",
   "name": "python3"
  },
  "language_info": {
   "codemirror_mode": {
    "name": "ipython",
    "version": 3
   },
   "file_extension": ".py",
   "mimetype": "text/x-python",
   "name": "python",
   "nbconvert_exporter": "python",
   "pygments_lexer": "ipython3",
   "version": "3.6.5"
  }
 },
 "nbformat": 4,
 "nbformat_minor": 2
}
